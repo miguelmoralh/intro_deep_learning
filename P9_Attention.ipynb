{
 "cells": [
  {
   "cell_type": "markdown",
   "metadata": {
    "id": "-JGr-h1xvTOZ"
   },
   "source": [
    "# MNIST Simple Pointer Network\n",
    "\n",
    "In this notebook we will learn how to create a simple [Pointer Network](https://arxiv.org/abs/1506.03134) (Vinyals et al. 2015) for solving a dummy task on the MNIST dataset.\n",
    "\n",
    "A Pointer Network uses the **attention mechanism’s** output to model the conditional probability of each element on its input. This can be extremely useful in tasks that require selecting one (or more) elements of the input sequence/set to be solved.\n",
    "\n",
    "In this notebook we will play with a simple Pointer net to solve the following task: Given an MNIST image with a (query) digit we want our model to find the image that contains the consecutive digit to the query image among a set of input images. For example, imagine we use an image with the digit \"5\" as query and let the input of the model be a set of 10 images with different digits, the output of our model must be a probability distribution over those 10 images indicating the presence or not of the digit \"6\" in each of them."
   ]
  },
  {
   "cell_type": "code",
   "execution_count": 1,
   "metadata": {
    "colab": {
     "base_uri": "https://localhost:8080/"
    },
    "id": "h4Z7-Wm7_5K6",
    "outputId": "9dbf2711-26a0-4bfc-e193-3f4c233d447e"
   },
   "outputs": [
    {
     "name": "stderr",
     "output_type": "stream",
     "text": [
      "C:\\Users\\Miguel\\anaconda3\\envs\\Pytorch_2\\lib\\site-packages\\tqdm\\auto.py:21: TqdmWarning: IProgress not found. Please update jupyter and ipywidgets. See https://ipywidgets.readthedocs.io/en/stable/user_install.html\n",
      "  from .autonotebook import tqdm as notebook_tqdm\n"
     ]
    },
    {
     "name": "stdout",
     "output_type": "stream",
     "text": [
      "PyTorch Version:  1.13.1\n"
     ]
    }
   ],
   "source": [
    "import torch\n",
    "import torchvision\n",
    "import torch.nn as nn\n",
    "import torch.optim as optim\n",
    "import numpy as np\n",
    "from torch.utils.data import Dataset, DataLoader\n",
    "\n",
    "import matplotlib.pyplot as plt\n",
    "from collections import Counter\n",
    "import time\n",
    "import os\n",
    "import copy\n",
    "print(\"PyTorch Version: \",torch.__version__)"
   ]
  },
  {
   "cell_type": "code",
   "execution_count": 2,
   "metadata": {
    "id": "RNJh2q4lQGYF"
   },
   "outputs": [
    {
     "name": "stdout",
     "output_type": "stream",
     "text": [
      "Using device: cuda\n"
     ]
    }
   ],
   "source": [
    "#If this cell fails you need to change the runtime of your colab notebook to GPU\n",
    "# Go to Runtime -> Change Runtime Type and select GPU\n",
    "assert torch.cuda.is_available(), \"GPU is not enabled\"\n",
    "\n",
    "#  use gpu if available\n",
    "device = torch.device(\"cuda\" if torch.cuda.is_available() else \"cpu\")\n",
    "print(\"Using device:\", device)"
   ]
  },
  {
   "cell_type": "markdown",
   "metadata": {
    "id": "CyM0DXter9Mp"
   },
   "source": [
    "### Create the dataset\n",
    "\n",
    "Let's start creating a Dataset class to understand better the task we want to solve. Each sample in out dataset will be formed by:\n",
    "\n",
    "* a query image\n",
    "* a set of 10 images, 9 of them selected randomly (distractors) and one selected as the consecutive digit of the digit in the query image.\n",
    "* the ground truth: a 10-D one hot vector indicating the position of the image we want our model to select (\"point to\")."
   ]
  },
  {
   "cell_type": "code",
   "execution_count": 3,
   "metadata": {
    "id": "XksdVS7GHWw0"
   },
   "outputs": [],
   "source": [
    "class MNISTAttentionDataset(Dataset):\n",
    "    \"\"\"MNIST attention toy dataset.\"\"\"\n",
    "\n",
    "    def __init__(self, num_inputs, train=True):\n",
    "        \"\"\"\n",
    "        Args:\n",
    "            num_inputs (int) - The number of images in the input of our model.\n",
    "            train (bool, optional) – If True, creates dataset from MNIST training\n",
    "                samples, otherwise from test\n",
    "        \"\"\"\n",
    "        \n",
    "        self.num_inputs = num_inputs\n",
    "        self.mnist = torchvision.datasets.MNIST('../data', train=train, download=True)\n",
    "        \n",
    "        # dict with samples for each class label\n",
    "        self.data = {}\n",
    "        for label in range(10):\n",
    "            #Collect in separate lists the different digits, and normalise values to [0, 1]\n",
    "            self.data[label] = self.mnist.data[self.mnist.targets == label] / 255.0\n",
    "\n",
    "        \n",
    "\n",
    "    def __len__(self):\n",
    "        # The length makes little sense here, as we generate samples dynamically\n",
    "        # Here we return the number of images originally in the dataset\n",
    "        return self.mnist.data.shape[0]\n",
    "\n",
    "    def __getitem__(self, idx):\n",
    "        \"\"\"\n",
    "        Args:\n",
    "            idx (int) - an index indicating which digit should be used as query\n",
    "        \"\"\"\n",
    "        c = self.mnist.targets[idx].item()     # Find out which is the class of the digit requested\n",
    "        query = self.mnist.data[idx].flatten()/225.0 # Get the data for the digit requested 225 to normalize\n",
    "\n",
    "        correct_pos = np.random.randint(0, self.num_inputs) # Decide on a random position where the correct answer will be\n",
    "        \n",
    "        inputs = np.zeros((self.num_inputs, 784)) # Create an array to hold the inputs (from which we have to select one)\n",
    "        for j in range(self.num_inputs):\n",
    "            if j == correct_pos: # In the correct position, place a random digit that comes from the c+1 class\n",
    "                idx = np.random.randint(0,self.data[(c+1)%10].shape[0])\n",
    "                inputs[j,:] = self.data[(c+1)%10][idx,:].flatten()\n",
    "            else: # In the rest of the positions, place random digits that come from the rest of the classes\n",
    "                c_distractor = np.random.choice([n for n in [0,1,2,3,4,5,6,7,8,9] if n!=(c+1)%10])\n",
    "                idx = np.random.randint(0,self.data[c_distractor].shape[0])\n",
    "                inputs[j,:] = self.data[c_distractor][idx,:].flatten()\n",
    "            \n",
    "        sample = {'x': inputs, 'query': query, 'y': correct_pos}\n",
    "\n",
    "        return sample"
   ]
  },
  {
   "cell_type": "code",
   "execution_count": 4,
   "metadata": {
    "id": "hL2kwN-kpjUc"
   },
   "outputs": [],
   "source": [
    "num_inputs = 10\n",
    "\n",
    "train_dataset = MNISTAttentionDataset(num_inputs, train=True)\n",
    "test_dataset = MNISTAttentionDataset(num_inputs, train=False)\n",
    "\n",
    "train_loader = DataLoader(train_dataset, batch_size = 64, shuffle = True)\n",
    "test_loader  = DataLoader(test_dataset, batch_size = 1000, shuffle = True)"
   ]
  },
  {
   "cell_type": "markdown",
   "metadata": {
    "id": "RES5R0CMr3bE"
   },
   "source": [
    "### Visualize one training sample"
   ]
  },
  {
   "cell_type": "code",
   "execution_count": 5,
   "metadata": {
    "colab": {
     "base_uri": "https://localhost:8080/",
     "height": 158
    },
    "id": "fJY6zR_lqR41",
    "outputId": "789330a8-92bb-4445-dc72-9c4635342ecc"
   },
   "outputs": [
    {
     "name": "stdout",
     "output_type": "stream",
     "text": [
      "Data: (10, 784), Query: torch.Size([784])\n"
     ]
    },
    {
     "data": {
      "image/png": "[encoded data removed]",
      "text/plain": [
       "<Figure size 3300x300 with 11 Axes>"
      ]
     },
     "metadata": {},
     "output_type": "display_data"
    }
   ],
   "source": [
    "sample = train_dataset[0]\n",
    "\n",
    "print(f\"Data: {sample['x'].shape}, Query: {sample['query'].shape}\")\n",
    "\n",
    "fig = plt.figure(figsize=(33, 3))\n",
    "plt.tight_layout()\n",
    "\n",
    "ax = plt.subplot(1, num_inputs + 1, 1)\n",
    "image = sample['query'].reshape(28,28)\n",
    "plt.imshow(image, cmap='gray')\n",
    "plt.plot([0,27,27,0,0], [0,0,27,27,0], c='b') # Draw a blue box around the query sample\n",
    "ax.set_title('Query')\n",
    "ax.axis('off')\n",
    "\n",
    "for i in range(num_inputs):\n",
    "    ax = plt.subplot(1, num_inputs + 1, i+2)\n",
    "    ax.set_title('Sample #{}'.format(i))\n",
    "    ax.axis('off')\n",
    "    image = sample['x'][i].reshape(28,28)\n",
    "    plt.imshow(image, cmap='gray')\n",
    "    if i == sample['y']:\n",
    "        plt.plot([0,27,27,0,0], [0,0,27,27,0], c='g') # Draw a green box around the correct sample\n",
    "        ax.set_title('Target')\n",
    "    else:\n",
    "        plt.plot([0,27,27,0,0], [0,0,27,27,0], c='r') # Draw a blue box around the wrong sample\n",
    "        ax.set_title('Distractor #{}'.format(i))\n",
    "    ax.axis('off')\n",
    "\n",
    "plt.show()"
   ]
  },
  {
   "cell_type": "markdown",
   "metadata": {
    "id": "DVaMM-n2sFF6"
   },
   "source": [
    "### Create the model"
   ]
  },
  {
   "cell_type": "code",
   "execution_count": 6,
   "metadata": {
    "id": "BesD8B1BAW9u"
   },
   "outputs": [],
   "source": [
    "class AttentionModel(nn.Module):\n",
    "    def __init__(self, input_dim, num_inputs, hidden_dim):\n",
    "        super(AttentionModel, self).__init__()\n",
    "        self.hidden_dim = hidden_dim\n",
    "        self.num_inputs = num_inputs\n",
    "        self.input_dim  = input_dim\n",
    "\n",
    "        # Weights (Fully Connected layers) \n",
    "        self.fc_q = nn.Linear(input_dim, hidden_dim) # Query FC\n",
    "        self.fc_k = nn.Linear(input_dim, hidden_dim) # Keys FC. Here the input acts as the keys, and there is no value\n",
    "        self.fc_v = nn.Linear(hidden_dim, 1) # Values FC\n",
    "\n",
    "    def scoringAdditive(self, query, keys):\n",
    "        # Query is                                              (B X 1 X input_dim)\n",
    "        # Repeat (tile) the query so that it has the same size as the keys (input)\n",
    "        query = query.repeat(1, self.num_inputs, 1)           # (B X num_inputs X input_dim)\n",
    "        query = torch.tanh(self.fc_q(query))                  # (B X num_inputs X hidden_dim)\n",
    "\n",
    "        # Keys is                                               (B X num_inputs X input_dim)\n",
    "        keys = torch.tanh(self.fc_k(keys))                    # (B X num_inputs X hidden_dim)\n",
    "        \n",
    "        # Attention Score\n",
    "        score = torch.tanh(query + keys )                     # (B X num_inputs X hidden_dim)\n",
    "        score = self.fc_v(score)                              # (B X num_inputs X 1)        \n",
    "        return score\n",
    "\n",
    "    def forward(self, x, query):\n",
    "        query = query.unsqueeze(1) # (B x input_dim) -> (B x 1 x input_dim)\n",
    "        \n",
    "        # Calculate attention scores\n",
    "        output = self.scoringAdditive(query, x)\n",
    "        output = output.squeeze()       # (B x 1 x num_inputs) -> (B x num_inputs)\n",
    "        return output # return output withou particular range"
   ]
  },
  {
   "cell_type": "markdown",
   "metadata": {
    "id": "y_yCyvgg9Pbj"
   },
   "source": [
    "<font color=\"blue\">\n",
    "\n",
    "**QUESTION**: The Additive score gives logits that we should pass through a softmax to get the final attention weights. Why is there no softmax in the model above?</font>"
   ]
  },
  {
   "cell_type": "markdown",
   "metadata": {},
   "source": [
    "---\n",
    "    \n",
    "**ANSWER**: \n",
    "\n",
    "Because the softmax is already implemented in the nexts step during the training in the loss function.\n",
    "\n",
    "---"
   ]
  },
  {
   "cell_type": "code",
   "execution_count": 7,
   "metadata": {
    "colab": {
     "base_uri": "https://localhost:8080/"
    },
    "id": "nsyUZE0lHJ5-",
    "outputId": "218369fc-efcb-4a62-9e29-5af570371c53"
   },
   "outputs": [
    {
     "name": "stdout",
     "output_type": "stream",
     "text": [
      "AttentionModel(\n",
      "  (fc_q): Linear(in_features=784, out_features=256, bias=True)\n",
      "  (fc_k): Linear(in_features=784, out_features=256, bias=True)\n",
      "  (fc_v): Linear(in_features=256, out_features=1, bias=True)\n",
      ")\n"
     ]
    }
   ],
   "source": [
    "input_dim, num_inputs, hidden_dim = (784, 10, 256)\n",
    "\n",
    "model = AttentionModel(input_dim, num_inputs, hidden_dim)\n",
    "print(model)"
   ]
  },
  {
   "cell_type": "markdown",
   "metadata": {
    "id": "xmp0kuk2z3Rx"
   },
   "source": [
    "### Define the training method and train"
   ]
  },
  {
   "cell_type": "code",
   "execution_count": 8,
   "metadata": {
    "id": "6ZvGWqwDrc-V"
   },
   "outputs": [],
   "source": [
    "def train(model, device, train_loader, criterion, optimizer, epoch, log_interval = 100):\n",
    "    # Method to perform one epoch of training\n",
    "    model.train()\n",
    "    loss_values = []\n",
    "    \n",
    "    for batch_idx, sample_batched in enumerate(train_loader):\n",
    "        data = sample_batched['x'].float()\n",
    "        query = sample_batched['query'].float()\n",
    "        target = sample_batched['y']\n",
    "        #print(data.shape, query.shape)\n",
    "        data, query, target = data.to(device), query.to(device), target.to(device)\n",
    "        \n",
    "        optimizer.zero_grad()\n",
    "        output = model(data, query)\n",
    "        loss = criterion(output, target)\n",
    "        loss.backward()\n",
    "        optimizer.step()\n",
    "        \n",
    "        loss_values.append(loss.detach().cpu().item())        \n",
    "        if batch_idx % log_interval == 0:\n",
    "            print('Train Epoch: {} [{}/{} ({:.0f}%)]\\tLoss: {:.6f}'.format(\n",
    "                epoch, batch_idx * len(data), len(train_loader.dataset),\n",
    "                100. * batch_idx / len(train_loader), loss.item()))\n",
    "        \n",
    "    return loss_values"
   ]
  },
  {
   "cell_type": "code",
   "execution_count": 9,
   "metadata": {
    "colab": {
     "base_uri": "https://localhost:8080/"
    },
    "id": "L_ZTvDKRz9yx",
    "outputId": "a9aa7589-4464-4328-8ccf-c3deb862feaf"
   },
   "outputs": [
    {
     "name": "stdout",
     "output_type": "stream",
     "text": [
      "Train Epoch: 1 [0/60000 (0%)]\tLoss: 2.313281\n",
      "Train Epoch: 1 [6400/60000 (11%)]\tLoss: 1.566007\n",
      "Train Epoch: 1 [12800/60000 (21%)]\tLoss: 0.958750\n",
      "Train Epoch: 1 [19200/60000 (32%)]\tLoss: 0.976015\n",
      "Train Epoch: 1 [25600/60000 (43%)]\tLoss: 0.765017\n",
      "Train Epoch: 1 [32000/60000 (53%)]\tLoss: 0.737005\n",
      "Train Epoch: 1 [38400/60000 (64%)]\tLoss: 0.792202\n",
      "Train Epoch: 1 [44800/60000 (75%)]\tLoss: 0.454533\n",
      "Train Epoch: 1 [51200/60000 (85%)]\tLoss: 0.486161\n",
      "Train Epoch: 1 [57600/60000 (96%)]\tLoss: 0.318721\n",
      "Train Epoch: 2 [0/60000 (0%)]\tLoss: 0.511221\n",
      "Train Epoch: 2 [6400/60000 (11%)]\tLoss: 0.568858\n",
      "Train Epoch: 2 [12800/60000 (21%)]\tLoss: 0.348392\n",
      "Train Epoch: 2 [19200/60000 (32%)]\tLoss: 0.500577\n",
      "Train Epoch: 2 [25600/60000 (43%)]\tLoss: 0.584452\n",
      "Train Epoch: 2 [32000/60000 (53%)]\tLoss: 0.304823\n",
      "Train Epoch: 2 [38400/60000 (64%)]\tLoss: 0.475531\n",
      "Train Epoch: 2 [44800/60000 (75%)]\tLoss: 0.484668\n",
      "Train Epoch: 2 [51200/60000 (85%)]\tLoss: 0.444994\n",
      "Train Epoch: 2 [57600/60000 (96%)]\tLoss: 0.572765\n",
      "Train Epoch: 3 [0/60000 (0%)]\tLoss: 0.536229\n",
      "Train Epoch: 3 [6400/60000 (11%)]\tLoss: 0.328546\n",
      "Train Epoch: 3 [12800/60000 (21%)]\tLoss: 0.295929\n",
      "Train Epoch: 3 [19200/60000 (32%)]\tLoss: 0.354594\n",
      "Train Epoch: 3 [25600/60000 (43%)]\tLoss: 0.227286\n",
      "Train Epoch: 3 [32000/60000 (53%)]\tLoss: 0.291796\n",
      "Train Epoch: 3 [38400/60000 (64%)]\tLoss: 0.257620\n",
      "Train Epoch: 3 [44800/60000 (75%)]\tLoss: 0.376609\n",
      "Train Epoch: 3 [51200/60000 (85%)]\tLoss: 0.388928\n",
      "Train Epoch: 3 [57600/60000 (96%)]\tLoss: 0.227444\n",
      "Train Epoch: 4 [0/60000 (0%)]\tLoss: 0.363234\n",
      "Train Epoch: 4 [6400/60000 (11%)]\tLoss: 0.222605\n",
      "Train Epoch: 4 [12800/60000 (21%)]\tLoss: 0.278979\n",
      "Train Epoch: 4 [19200/60000 (32%)]\tLoss: 0.309478\n",
      "Train Epoch: 4 [25600/60000 (43%)]\tLoss: 0.294171\n",
      "Train Epoch: 4 [32000/60000 (53%)]\tLoss: 0.371655\n",
      "Train Epoch: 4 [38400/60000 (64%)]\tLoss: 0.373720\n",
      "Train Epoch: 4 [44800/60000 (75%)]\tLoss: 0.298214\n",
      "Train Epoch: 4 [51200/60000 (85%)]\tLoss: 0.360894\n",
      "Train Epoch: 4 [57600/60000 (96%)]\tLoss: 0.372733\n",
      "Train Epoch: 5 [0/60000 (0%)]\tLoss: 0.152895\n",
      "Train Epoch: 5 [6400/60000 (11%)]\tLoss: 0.387981\n",
      "Train Epoch: 5 [12800/60000 (21%)]\tLoss: 0.377853\n",
      "Train Epoch: 5 [19200/60000 (32%)]\tLoss: 0.186835\n",
      "Train Epoch: 5 [25600/60000 (43%)]\tLoss: 0.286651\n",
      "Train Epoch: 5 [32000/60000 (53%)]\tLoss: 0.349054\n",
      "Train Epoch: 5 [38400/60000 (64%)]\tLoss: 0.491654\n",
      "Train Epoch: 5 [44800/60000 (75%)]\tLoss: 0.209579\n",
      "Train Epoch: 5 [51200/60000 (85%)]\tLoss: 0.170925\n",
      "Train Epoch: 5 [57600/60000 (96%)]\tLoss: 0.334756\n",
      "Train Epoch: 6 [0/60000 (0%)]\tLoss: 0.283457\n",
      "Train Epoch: 6 [6400/60000 (11%)]\tLoss: 0.304674\n",
      "Train Epoch: 6 [12800/60000 (21%)]\tLoss: 0.468268\n",
      "Train Epoch: 6 [19200/60000 (32%)]\tLoss: 0.294945\n",
      "Train Epoch: 6 [25600/60000 (43%)]\tLoss: 0.262792\n",
      "Train Epoch: 6 [32000/60000 (53%)]\tLoss: 0.319846\n",
      "Train Epoch: 6 [38400/60000 (64%)]\tLoss: 0.267541\n",
      "Train Epoch: 6 [44800/60000 (75%)]\tLoss: 0.366126\n",
      "Train Epoch: 6 [51200/60000 (85%)]\tLoss: 0.166445\n",
      "Train Epoch: 6 [57600/60000 (96%)]\tLoss: 0.177401\n",
      "Train Epoch: 7 [0/60000 (0%)]\tLoss: 0.405993\n",
      "Train Epoch: 7 [6400/60000 (11%)]\tLoss: 0.223054\n",
      "Train Epoch: 7 [12800/60000 (21%)]\tLoss: 0.162481\n",
      "Train Epoch: 7 [19200/60000 (32%)]\tLoss: 0.276527\n",
      "Train Epoch: 7 [25600/60000 (43%)]\tLoss: 0.212802\n",
      "Train Epoch: 7 [32000/60000 (53%)]\tLoss: 0.165402\n",
      "Train Epoch: 7 [38400/60000 (64%)]\tLoss: 0.196668\n",
      "Train Epoch: 7 [44800/60000 (75%)]\tLoss: 0.307023\n",
      "Train Epoch: 7 [51200/60000 (85%)]\tLoss: 0.236544\n",
      "Train Epoch: 7 [57600/60000 (96%)]\tLoss: 0.233605\n",
      "Train Epoch: 8 [0/60000 (0%)]\tLoss: 0.286770\n",
      "Train Epoch: 8 [6400/60000 (11%)]\tLoss: 0.275953\n",
      "Train Epoch: 8 [12800/60000 (21%)]\tLoss: 0.204566\n",
      "Train Epoch: 8 [19200/60000 (32%)]\tLoss: 0.207182\n",
      "Train Epoch: 8 [25600/60000 (43%)]\tLoss: 0.271821\n",
      "Train Epoch: 8 [32000/60000 (53%)]\tLoss: 0.239089\n",
      "Train Epoch: 8 [38400/60000 (64%)]\tLoss: 0.442212\n",
      "Train Epoch: 8 [44800/60000 (75%)]\tLoss: 0.328015\n",
      "Train Epoch: 8 [51200/60000 (85%)]\tLoss: 0.554346\n",
      "Train Epoch: 8 [57600/60000 (96%)]\tLoss: 0.148282\n",
      "Train Epoch: 9 [0/60000 (0%)]\tLoss: 0.182544\n",
      "Train Epoch: 9 [6400/60000 (11%)]\tLoss: 0.445859\n",
      "Train Epoch: 9 [12800/60000 (21%)]\tLoss: 0.181993\n",
      "Train Epoch: 9 [19200/60000 (32%)]\tLoss: 0.239140\n",
      "Train Epoch: 9 [25600/60000 (43%)]\tLoss: 0.303989\n",
      "Train Epoch: 9 [32000/60000 (53%)]\tLoss: 0.257603\n",
      "Train Epoch: 9 [38400/60000 (64%)]\tLoss: 0.169543\n",
      "Train Epoch: 9 [44800/60000 (75%)]\tLoss: 0.267658\n",
      "Train Epoch: 9 [51200/60000 (85%)]\tLoss: 0.219584\n",
      "Train Epoch: 9 [57600/60000 (96%)]\tLoss: 0.232326\n",
      "Train Epoch: 10 [0/60000 (0%)]\tLoss: 0.259250\n",
      "Train Epoch: 10 [6400/60000 (11%)]\tLoss: 0.149613\n",
      "Train Epoch: 10 [12800/60000 (21%)]\tLoss: 0.223590\n",
      "Train Epoch: 10 [19200/60000 (32%)]\tLoss: 0.279565\n",
      "Train Epoch: 10 [25600/60000 (43%)]\tLoss: 0.288622\n",
      "Train Epoch: 10 [32000/60000 (53%)]\tLoss: 0.175639\n",
      "Train Epoch: 10 [38400/60000 (64%)]\tLoss: 0.270841\n",
      "Train Epoch: 10 [44800/60000 (75%)]\tLoss: 0.174251\n",
      "Train Epoch: 10 [51200/60000 (85%)]\tLoss: 0.199952\n",
      "Train Epoch: 10 [57600/60000 (96%)]\tLoss: 0.232879\n"
     ]
    }
   ],
   "source": [
    "model = model.to(device)\n",
    "\n",
    "optimizer = optim.Adam(model.parameters())\n",
    "\n",
    "criterion = nn.CrossEntropyLoss()\n",
    "\n",
    "epochs = 10\n",
    "\n",
    "loss_history = []\n",
    "for epoch in range(1, epochs + 1):\n",
    "    loss_values = train(model, device, train_loader, criterion, optimizer, epoch)\n",
    "    loss_history += loss_values"
   ]
  },
  {
   "cell_type": "code",
   "execution_count": 10,
   "metadata": {
    "colab": {
     "base_uri": "https://localhost:8080/",
     "height": 283
    },
    "id": "V1VFBe_Y0Cxx",
    "outputId": "e5fbd475-41a9-4e8a-b361-c3da0e2c0802"
   },
   "outputs": [
    {
     "data": {
      "text/plain": [
       "[<matplotlib.lines.Line2D at 0x12ba13aed70>]"
      ]
     },
     "execution_count": 10,
     "metadata": {},
     "output_type": "execute_result"
    },
    {
     "data": {
      "image/png": "[encoded data removed]",
      "text/plain": [
       "<Figure size 640x480 with 1 Axes>"
      ]
     },
     "metadata": {},
     "output_type": "display_data"
    }
   ],
   "source": [
    "plt.plot(loss_history)"
   ]
  },
  {
   "cell_type": "markdown",
   "metadata": {
    "id": "jONlgxyaEwC6"
   },
   "source": [
    "### Evaluate the trained model"
   ]
  },
  {
   "cell_type": "code",
   "execution_count": 11,
   "metadata": {
    "id": "izgtCdk5DV01"
   },
   "outputs": [],
   "source": [
    "def evaluate(model, device, test_loader):\n",
    "    model.eval()\n",
    "    total = 0.\n",
    "    ok = 0.\n",
    "    for batch_idx, sample_batched in enumerate(test_loader):\n",
    "        data = sample_batched['x'].float()\n",
    "        query = sample_batched['query'].float()\n",
    "        target = sample_batched['y'].numpy()\n",
    "        data, query = data.to(device), query.to(device)\n",
    "        \n",
    "        output = model(data, query)\n",
    "        pred = np.argmax(output.detach().cpu().numpy(), axis=1)\n",
    "       \n",
    "        ok += np.sum(pred == target)\n",
    "        total += len(test_loader)\n",
    "                \n",
    "    print('Accuracy = ', ok/total)"
   ]
  },
  {
   "cell_type": "code",
   "execution_count": 12,
   "metadata": {
    "colab": {
     "base_uri": "https://localhost:8080/"
    },
    "id": "JYQGuAXpGNU7",
    "outputId": "e59b247d-bbff-4c84-d482-c8d48c8aea10"
   },
   "outputs": [
    {
     "name": "stdout",
     "output_type": "stream",
     "text": [
      "Accuracy =  91.56\n"
     ]
    }
   ],
   "source": [
    "evaluate(model, device, test_loader)"
   ]
  },
  {
   "cell_type": "markdown",
   "metadata": {
    "id": "CaOoDxjhhjxz"
   },
   "source": [
    "<font color=\"blue\">\n",
    "\n",
    "**EXERCISE 1**: Starting from the previous model as a template, implement the Dot-product Attention scoring function and substitute the additive one we were using before. Retrain and evalute the model.</font>\n",
    "\n",
    "<font color=\"blue\">\n",
    "\n",
    "> Hint: To transpose a tensor along specific dimensions you can use `torch.permute()`\n",
    "</font>\n",
    "\n",
    "\n",
    "<font color=\"blue\">\n",
    "\n",
    "> Hint: To perform a batch matrix-matrix product, use the function `torch.bmm()` https://pytorch.org/docs/stable/generated/torch.bmm.html \n",
    "</font>"
   ]
  },
  {
   "cell_type": "code",
   "execution_count": 44,
   "metadata": {},
   "outputs": [],
   "source": [
    "# YOUR CODE HERE\n",
    "\n",
    "#change scoreadditive by dot product and then change the forward method\n",
    "\n",
    "class AttentionModel_2(nn.Module):\n",
    "    def __init__(self, input_dim, num_inputs, hidden_dim):\n",
    "        super(AttentionModel_2, self).__init__()\n",
    "        self.hidden_dim = hidden_dim\n",
    "        self.num_inputs = num_inputs\n",
    "        self.input_dim  = input_dim\n",
    "\n",
    "        # Weights (Fully Connected layers) \n",
    "        self.fc_q = nn.Linear(input_dim, hidden_dim) # Query FC\n",
    "        self.fc_k = nn.Linear(input_dim, hidden_dim) # Keys FC. Here the input acts as the keys, and there is no value\n",
    "        self.fc_v = nn.Linear(hidden_dim, 1) # Values FC\n",
    "\n",
    "    def scoringScaledDotProduct(self, query, keys):\n",
    "        \n",
    "        # Query is                                              (B X 1 X input_dim)\n",
    "        query = torch.tanh(self.fc_q(query))                  # (B X 1 X input_dim)\n",
    "\n",
    "        # Keys is                                               (B X num_inputs X input_dim)\n",
    "        keys = torch.tanh(self.fc_k(keys))                    # (B X num_inputs X hidden_dim)\n",
    "        keys = torch.permute(keys, (0,2,1))                   # (B X hidden_dim X num_inputs)\n",
    "        \n",
    "        # Attention Score\n",
    "        \n",
    "        score = torch.bmm(query, keys) / np.sqrt(self.hidden_dim)   # (B X num_inputs X hidden_dim) x (B X hidden_dim X num_inputs) = (B X num_inputs X num_inputs) \n",
    "        return score\n",
    "\n",
    "    def forward(self, x, query):\n",
    "        query = query.unsqueeze(1) # (B x input_dim) -> (B x 1 x input_dim)\n",
    "        \n",
    "        # Calculate attention scores\n",
    "        output = self.scoringScaledDotProduct(query, x)\n",
    "        output = output.squeeze()       # (B x 1 x num_inputs) -> (B x num_inputs)\n",
    "        return output # return output withou particular range"
   ]
  },
  {
   "cell_type": "code",
   "execution_count": 45,
   "metadata": {},
   "outputs": [
    {
     "name": "stdout",
     "output_type": "stream",
     "text": [
      "AttentionModel_2(\n",
      "  (fc_q): Linear(in_features=784, out_features=256, bias=True)\n",
      "  (fc_k): Linear(in_features=784, out_features=256, bias=True)\n",
      "  (fc_v): Linear(in_features=256, out_features=1, bias=True)\n",
      ")\n"
     ]
    }
   ],
   "source": [
    "input_dim, num_inputs, hidden_dim = (784, 10, 256)\n",
    "\n",
    "model_2 = AttentionModel_2(input_dim, num_inputs, hidden_dim)\n",
    "print(model_2)"
   ]
  },
  {
   "cell_type": "code",
   "execution_count": 46,
   "metadata": {},
   "outputs": [
    {
     "name": "stdout",
     "output_type": "stream",
     "text": [
      "Train Epoch: 1 [0/60000 (0%)]\tLoss: 2.306500\n",
      "Train Epoch: 1 [6400/60000 (11%)]\tLoss: 1.004650\n",
      "Train Epoch: 1 [12800/60000 (21%)]\tLoss: 1.010902\n",
      "Train Epoch: 1 [19200/60000 (32%)]\tLoss: 0.690515\n",
      "Train Epoch: 1 [25600/60000 (43%)]\tLoss: 0.738108\n",
      "Train Epoch: 1 [32000/60000 (53%)]\tLoss: 0.452265\n",
      "Train Epoch: 1 [38400/60000 (64%)]\tLoss: 0.755391\n",
      "Train Epoch: 1 [44800/60000 (75%)]\tLoss: 0.500753\n",
      "Train Epoch: 1 [51200/60000 (85%)]\tLoss: 0.396139\n",
      "Train Epoch: 1 [57600/60000 (96%)]\tLoss: 0.484973\n",
      "Train Epoch: 2 [0/60000 (0%)]\tLoss: 0.328040\n",
      "Train Epoch: 2 [6400/60000 (11%)]\tLoss: 0.395706\n",
      "Train Epoch: 2 [12800/60000 (21%)]\tLoss: 0.394393\n",
      "Train Epoch: 2 [19200/60000 (32%)]\tLoss: 0.439098\n",
      "Train Epoch: 2 [25600/60000 (43%)]\tLoss: 0.609611\n",
      "Train Epoch: 2 [32000/60000 (53%)]\tLoss: 0.376769\n",
      "Train Epoch: 2 [38400/60000 (64%)]\tLoss: 0.619106\n",
      "Train Epoch: 2 [44800/60000 (75%)]\tLoss: 0.656258\n",
      "Train Epoch: 2 [51200/60000 (85%)]\tLoss: 0.406614\n",
      "Train Epoch: 2 [57600/60000 (96%)]\tLoss: 0.499483\n",
      "Train Epoch: 3 [0/60000 (0%)]\tLoss: 0.361656\n",
      "Train Epoch: 3 [6400/60000 (11%)]\tLoss: 0.297522\n",
      "Train Epoch: 3 [12800/60000 (21%)]\tLoss: 0.440639\n",
      "Train Epoch: 3 [19200/60000 (32%)]\tLoss: 0.228293\n",
      "Train Epoch: 3 [25600/60000 (43%)]\tLoss: 0.320386\n",
      "Train Epoch: 3 [32000/60000 (53%)]\tLoss: 0.336819\n",
      "Train Epoch: 3 [38400/60000 (64%)]\tLoss: 0.332024\n",
      "Train Epoch: 3 [44800/60000 (75%)]\tLoss: 0.425854\n",
      "Train Epoch: 3 [51200/60000 (85%)]\tLoss: 0.396705\n",
      "Train Epoch: 3 [57600/60000 (96%)]\tLoss: 0.358669\n",
      "Train Epoch: 4 [0/60000 (0%)]\tLoss: 0.356326\n",
      "Train Epoch: 4 [6400/60000 (11%)]\tLoss: 0.209505\n",
      "Train Epoch: 4 [12800/60000 (21%)]\tLoss: 0.276197\n",
      "Train Epoch: 4 [19200/60000 (32%)]\tLoss: 0.294888\n",
      "Train Epoch: 4 [25600/60000 (43%)]\tLoss: 0.311422\n",
      "Train Epoch: 4 [32000/60000 (53%)]\tLoss: 0.182522\n",
      "Train Epoch: 4 [38400/60000 (64%)]\tLoss: 0.301598\n",
      "Train Epoch: 4 [44800/60000 (75%)]\tLoss: 0.283151\n",
      "Train Epoch: 4 [51200/60000 (85%)]\tLoss: 0.213351\n",
      "Train Epoch: 4 [57600/60000 (96%)]\tLoss: 0.401980\n",
      "Train Epoch: 5 [0/60000 (0%)]\tLoss: 0.233445\n",
      "Train Epoch: 5 [6400/60000 (11%)]\tLoss: 0.535215\n",
      "Train Epoch: 5 [12800/60000 (21%)]\tLoss: 0.253328\n",
      "Train Epoch: 5 [19200/60000 (32%)]\tLoss: 0.264383\n",
      "Train Epoch: 5 [25600/60000 (43%)]\tLoss: 0.422168\n",
      "Train Epoch: 5 [32000/60000 (53%)]\tLoss: 0.287165\n",
      "Train Epoch: 5 [38400/60000 (64%)]\tLoss: 0.273893\n",
      "Train Epoch: 5 [44800/60000 (75%)]\tLoss: 0.380264\n",
      "Train Epoch: 5 [51200/60000 (85%)]\tLoss: 0.423205\n",
      "Train Epoch: 5 [57600/60000 (96%)]\tLoss: 0.276117\n",
      "Train Epoch: 6 [0/60000 (0%)]\tLoss: 0.225215\n",
      "Train Epoch: 6 [6400/60000 (11%)]\tLoss: 0.237137\n",
      "Train Epoch: 6 [12800/60000 (21%)]\tLoss: 0.397086\n",
      "Train Epoch: 6 [19200/60000 (32%)]\tLoss: 0.319252\n",
      "Train Epoch: 6 [25600/60000 (43%)]\tLoss: 0.217883\n",
      "Train Epoch: 6 [32000/60000 (53%)]\tLoss: 0.431086\n",
      "Train Epoch: 6 [38400/60000 (64%)]\tLoss: 0.224510\n",
      "Train Epoch: 6 [44800/60000 (75%)]\tLoss: 0.306733\n",
      "Train Epoch: 6 [51200/60000 (85%)]\tLoss: 0.300859\n",
      "Train Epoch: 6 [57600/60000 (96%)]\tLoss: 0.193093\n",
      "Train Epoch: 7 [0/60000 (0%)]\tLoss: 0.269221\n",
      "Train Epoch: 7 [6400/60000 (11%)]\tLoss: 0.147476\n",
      "Train Epoch: 7 [12800/60000 (21%)]\tLoss: 0.190622\n",
      "Train Epoch: 7 [19200/60000 (32%)]\tLoss: 0.303671\n",
      "Train Epoch: 7 [25600/60000 (43%)]\tLoss: 0.146491\n",
      "Train Epoch: 7 [32000/60000 (53%)]\tLoss: 0.125430\n",
      "Train Epoch: 7 [38400/60000 (64%)]\tLoss: 0.170325\n",
      "Train Epoch: 7 [44800/60000 (75%)]\tLoss: 0.412075\n",
      "Train Epoch: 7 [51200/60000 (85%)]\tLoss: 0.421283\n",
      "Train Epoch: 7 [57600/60000 (96%)]\tLoss: 0.143940\n",
      "Train Epoch: 8 [0/60000 (0%)]\tLoss: 0.256088\n",
      "Train Epoch: 8 [6400/60000 (11%)]\tLoss: 0.340205\n",
      "Train Epoch: 8 [12800/60000 (21%)]\tLoss: 0.257989\n",
      "Train Epoch: 8 [19200/60000 (32%)]\tLoss: 0.315039\n",
      "Train Epoch: 8 [25600/60000 (43%)]\tLoss: 0.190329\n",
      "Train Epoch: 8 [32000/60000 (53%)]\tLoss: 0.199958\n",
      "Train Epoch: 8 [38400/60000 (64%)]\tLoss: 0.268728\n",
      "Train Epoch: 8 [44800/60000 (75%)]\tLoss: 0.189365\n",
      "Train Epoch: 8 [51200/60000 (85%)]\tLoss: 0.369324\n",
      "Train Epoch: 8 [57600/60000 (96%)]\tLoss: 0.286607\n",
      "Train Epoch: 9 [0/60000 (0%)]\tLoss: 0.235112\n",
      "Train Epoch: 9 [6400/60000 (11%)]\tLoss: 0.130263\n",
      "Train Epoch: 9 [12800/60000 (21%)]\tLoss: 0.301837\n",
      "Train Epoch: 9 [19200/60000 (32%)]\tLoss: 0.172551\n",
      "Train Epoch: 9 [25600/60000 (43%)]\tLoss: 0.289423\n",
      "Train Epoch: 9 [32000/60000 (53%)]\tLoss: 0.243051\n",
      "Train Epoch: 9 [38400/60000 (64%)]\tLoss: 0.211686\n",
      "Train Epoch: 9 [44800/60000 (75%)]\tLoss: 0.401226\n",
      "Train Epoch: 9 [51200/60000 (85%)]\tLoss: 0.199865\n",
      "Train Epoch: 9 [57600/60000 (96%)]\tLoss: 0.196207\n",
      "Train Epoch: 10 [0/60000 (0%)]\tLoss: 0.160813\n",
      "Train Epoch: 10 [6400/60000 (11%)]\tLoss: 0.150589\n",
      "Train Epoch: 10 [12800/60000 (21%)]\tLoss: 0.217913\n",
      "Train Epoch: 10 [19200/60000 (32%)]\tLoss: 0.160442\n",
      "Train Epoch: 10 [25600/60000 (43%)]\tLoss: 0.209692\n",
      "Train Epoch: 10 [32000/60000 (53%)]\tLoss: 0.216873\n",
      "Train Epoch: 10 [38400/60000 (64%)]\tLoss: 0.340597\n",
      "Train Epoch: 10 [44800/60000 (75%)]\tLoss: 0.235704\n",
      "Train Epoch: 10 [51200/60000 (85%)]\tLoss: 0.233622\n",
      "Train Epoch: 10 [57600/60000 (96%)]\tLoss: 0.287982\n"
     ]
    }
   ],
   "source": [
    "model_2 = model_2.to(device)\n",
    "\n",
    "optimizer_2 = optim.Adam(model_2.parameters())\n",
    "\n",
    "criterion = nn.CrossEntropyLoss()\n",
    "\n",
    "epochs = 10\n",
    "\n",
    "loss_history = []\n",
    "for epoch in range(1, epochs + 1):\n",
    "    loss_values = train(model_2, device, train_loader, criterion, optimizer_2, epoch)\n",
    "    loss_history += loss_values"
   ]
  },
  {
   "cell_type": "code",
   "execution_count": 47,
   "metadata": {},
   "outputs": [
    {
     "data": {
      "text/plain": [
       "[<matplotlib.lines.Line2D at 0x12c601dab30>]"
      ]
     },
     "execution_count": 47,
     "metadata": {},
     "output_type": "execute_result"
    },
    {
     "data": {
      "image/png": "[encoded data removed]",
      "text/plain": [
       "<Figure size 640x480 with 1 Axes>"
      ]
     },
     "metadata": {},
     "output_type": "display_data"
    }
   ],
   "source": [
    "plt.plot(loss_history)"
   ]
  },
  {
   "cell_type": "code",
   "execution_count": 48,
   "metadata": {},
   "outputs": [
    {
     "name": "stdout",
     "output_type": "stream",
     "text": [
      "Accuracy =  93.27\n"
     ]
    }
   ],
   "source": [
    "evaluate(model_2, device, test_loader)"
   ]
  }
 ],
 "metadata": {
  "accelerator": "GPU",
  "colab": {
   "collapsed_sections": [],
   "name": "Copy of MNIST_PointerNet.ipynb",
   "provenance": [],
   "toc_visible": true
  },
  "kernelspec": {
   "display_name": "Python 3 (ipykernel)",
   "language": "python",
   "name": "python3"
  },
  "language_info": {
   "codemirror_mode": {
    "name": "ipython",
    "version": 3
   },
   "file_extension": ".py",
   "mimetype": "text/x-python",
   "name": "python",
   "nbconvert_exporter": "python",
   "pygments_lexer": "ipython3",
   "version": "3.10.9"
  }
 },
 "nbformat": 4,
 "nbformat_minor": 4
}
